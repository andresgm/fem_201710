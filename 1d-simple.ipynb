{
 "cells": [
  {
   "cell_type": "code",
   "execution_count": 5,
   "metadata": {
    "collapsed": false,
    "outputExpanded": false
   },
   "source": [
    "%pylab inline"
   ],
   "outputs": [
    {
     "name": "stdout",
     "text": [
      "Populating the interactive namespace from numpy and matplotlib\n"
     ],
     "output_type": "stream"
    },
    {
     "name": "stderr",
     "text": [
      "C:\\Users\\angon\\Anaconda3\\lib\\site-packages\\IPython\\core\\magics\\pylab.py:161: UserWarning: pylab import has clobbered these variables: ['f']\n",
      "`%matplotlib` prevents importing * from pylab and numpy\n",
      "  \"\\n`%matplotlib` prevents importing * from pylab and numpy\"\n"
     ],
     "output_type": "stream"
    }
   ]
  },
  {
   "cell_type": "markdown",
   "source": [
    "# Conducción de calor en una placa plana 1D. \n",
    "\n",
    "Uno de los problemas más simples que se puede modelar es la distribución de temperatura en una placa plana. Este sistema está gobernado por la ecuación de calor en 1D:\n",
    "\n",
    "$$ -k\\frac{d^2T}{dx^2} - q = 0 $$\n",
    "\n",
    "En esta ecuación $k$ es la conductividad térmica, $T$ la temperatura, $x$ la posición espacial y $q$ la tasa de generación de calor en el material.  \n",
    "\n",
    "Esta ecuación es muy simple de solucionar de manera analítica. Sin embargo, a manera de ejemplo implementaremos un algoritmo para la solución de esta solución mediante el método de los elementos finitos.  \n",
    "\n",
    "Para completar la definición del problema se establece el dominio del mismo para $0 < x < L$ con una condición de frontera esencial en $x=0$\n",
    "\n",
    "$T(0) = g \\\\textrm{ - condición esencial}$  \n",
    "$\\frac{dT(L)}{dx} = h \\\\textrm{ - condición natural}$  \n",
    "\n\n"
   ],
   "metadata": {
    "collapsed": false,
    "outputExpanded": false
   }
  },
  {
   "cell_type": "code",
   "execution_count": 6,
   "metadata": {
    "collapsed": false,
    "outputExpanded": false
   },
   "source": [
    "def basis(x,i,dx):\n",
    "    \"\"\"Returns the ith basis funciton at x\n",
    "    x-position\n",
    "    i - basis funciton index\n",
    "    dx - width of each element\n",
    "    \"\"\"\n",
    "    if x <= (i-1)*dx: return 0.0\n",
    "    if x >= (i+1)*dx: return 0.0\n",
    "    if x < i*dx: return (x-i*dx)/dx+1\n",
    "    return 1.0-(x-i*dx)/dx\n",
    "\n",
    "def dbasis(x,i,dx):\n",
    "    \"\"\"Returns the ith basis funciton at x\n",
    "    x-position\n",
    "    i - basis funciton index\n",
    "    dx - width of each element\n",
    "    \"\"\"\n",
    "    if x <= (i-1)*dx: return 0.0\n",
    "    if x >= (i+1)*dx: return 0.0\n",
    "    if x < i*dx: return 1.0/dx\n",
    "    return -1.0/dx"
   ],
   "outputs": []
  },
  {
   "cell_type": "code",
   "execution_count": 7,
   "metadata": {
    "collapsed": false
   },
   "source": [
    "def f(x):\n",
    "    return 1.0"
   ],
   "outputs": []
  },
  {
   "cell_type": "code",
   "execution_count": 8,
   "metadata": {
    "collapsed": false
   },
   "source": [
    "n = 4\n",
    "dx = 1.0/n\n",
    "g = 1.0 # u(0) = g\n",
    "h = 0.0 # u'(1) = h"
   ],
   "outputs": []
  },
  {
   "cell_type": "code",
   "execution_count": 9,
   "metadata": {
    "collapsed": false
   },
   "source": [
    "K = np.zeros((n+1,n+1))\n",
    "\n",
    "for A in range(n+1): # loop over basis A\n",
    "    for B in range(n+1): # loop over basis B\n",
    "        for e in range(n): # loop over elements\n",
    "            xmid = 0.5*(e*dx+(e+1)*dx)\n",
    "            dNa = dbasis(xmid,A,dx)\n",
    "            dNb = dbasis(xmid,B,dx)\n",
    "            K[A,B] += dNa*dNb*dx\n"
   ],
   "outputs": []
  },
  {
   "cell_type": "code",
   "execution_count": 10,
   "metadata": {
    "collapsed": false
   },
   "source": [
    "F = np.zeros((n+1))\n",
    "for A in range(n+1):\n",
    "    for e in range(n):\n",
    "        xmid = 0.5*(e*dx+(e+1)*dx)\n",
    "        Na = basis(xmid,A,dx)\n",
    "        F[A] += Na*f(xmid)*dx"
   ],
   "outputs": []
  },
  {
   "cell_type": "code",
   "execution_count": 12,
   "metadata": {
    "collapsed": false
   },
   "source": [
    "ibc = 0\n",
    "F -= K[:,ibc]*g\n",
    "K[:,ibc] = K[ibc,:] = 0\n",
    "K[ibc,ibc] = 1\n",
    "F[ibc] = g\n",
    "\n",
    "# Add Neumann condition\n",
    "F[n] += h"
   ],
   "outputs": []
  },
  {
   "cell_type": "code",
   "execution_count": 13,
   "metadata": {
    "collapsed": false
   },
   "source": [
    "# Solve\n",
    "d = np.linalg.solve(K,F)"
   ],
   "outputs": []
  },
  {
   "cell_type": "code",
   "execution_count": 14,
   "metadata": {
    "collapsed": false
   },
   "source": [
    "# Plot solution\n",
    "x = np.linspace(0,1,100)\n",
    "for y in x:\n",
    "    val = 0.\n",
    "    for i in range (n+1):\n",
    "        val += basis(y,i,dx)*d[i]\n",
    "    plt.plot(y,val,'bo')\n",
    "plt.show()"
   ],
   "outputs": [
    {
     "metadata": {},
     "data": {
      "image/png": "[encoded data removed]",
      "text/plain": [
       "<matplotlib.figure.Figure at 0x15efd44f080>"
      ]
     },
     "output_type": "display_data"
    }
   ]
  }
 ],
 "nbformat": 4,
 "nbformat_minor": 0,
 "metadata": {
  "kernelspec": {
   "name": "python3",
   "language": "python",
   "display_name": "Python 3"
  },
  "kernel_info": {
   "name": "python3"
  },
  "language_info": {
   "nbconvert_exporter": "python",
   "name": "python",
   "file_extension": ".py",
   "version": "3.5.2",
   "codemirror_mode": {
    "version": 3,
    "name": "ipython"
   },
   "mimetype": "text/x-python",
   "pygments_lexer": "ipython3"
  }
 }
}
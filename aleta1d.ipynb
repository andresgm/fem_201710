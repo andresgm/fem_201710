{
 "cells": [
  {
   "cell_type": "markdown",
   "metadata": {},
   "source": [
    "# Transferencia de Calor de Superficies Extendidas #\n",
    "\n",
    "La tasa de transferencia de calor desde una superficie a temperatura $T_s$ hacia los alrededores a $T_{\\infty}$ está dada por la ley de enfriamiento de Newton  \n",
    "\n",
    "$$\\dot{Q}_{conv} = hA_s\\left(T_s-T_{\\infty}\\right)$$  \n",
    "\n",
    "Donde $A_s$ es el área de transferencia de calor y $h$ es el coeficiente de transferencia de calor.  \n",
    "\n",
    "Las superficies extendidas (también conocidas como aletas) son muy utilizadas para mejorar la disipación de calor desde una superficie mediante el incremento del área superficial. \n",
    "\n",
    "![Aleta](img/aleta.png)\n",
    "\n",
    "Mediante un análisis del flujo de calor estacionario por los elementos diferenciales mostrados en la figura, se puede encontrar que la distribución de temperatura en la aleta está determinada por la ecuación diferencial\n",
    "\n",
    "$$ \\frac{d}{dx}\\left(kA_c\\frac{dT}{dx}\\right) - hp\\left(T-T_{\\infty}\\right) = 0 $$\n",
    "\n",
    "Mediante un sencillo cambio de variables $\\theta = T - T_{\\infty}$ la ecuación se puede escribir en la forma\n",
    "\n",
    "$$\\frac{d^2\\theta}{dx^2} - a^2\\theta = 0$$\n",
    "\n",
    "donde\n",
    "\n",
    "$$ a^2 = \\frac{hp}{kA_c}. $$\n",
    "\n",
    "\n",
    "\n"
   ]
  },
  {
   "cell_type": "markdown",
   "metadata": {
    "collapsed": true
   },
   "source": [
    "Suponiendo que conocemos la temperatura en la base de la aleta\n",
    "\n",
    "$$ T(0) = T_b \\rightarrow \\theta(0) = T_b - T_{\\infty} = \\theta_b $$\n",
    "\n",
    "y que la punta de la aleta es adiabática\n",
    "\n",
    "$$ \\left. \\frac{d\\theta}{dx}\\right|_{x=L} = 0, $$\n",
    "\n",
    "es fácil obtener la solución analítica:\n",
    "\n",
    "$$ \\theta = \\theta_b \\frac{\\cosh{a(L-x)}}{\\cosh{aL}}. $$\n",
    "\n",
    "Además la tasa de transferencia de calor de la aleta se puede obtener calculando el flujo de calor por la base de la aleta (¿Por qué?) de la siguiente manera\n",
    "\n",
    "$$\\begin{eqnarray}\n",
    "\\dot{Q}_{conv} &=& \\left. -kA_c\\frac{dT}{dx}\\right|_{x=0} \\\\\n",
    "&=& \\sqrt{hpkA_c}(T_b-T_{\\infty})\\tanh{aL} \\\\\n",
    "&=& \\sqrt{hpkA_c}(\\theta_b)\\tanh{aL}\n",
    "\\end{eqnarray}$$\n",
    "\n",
    "Lo cual se puede expresar en términos adimensionales como \n",
    "\n",
    "$$ \\frac{\\dot{Q}_{conv}}{\\sqrt{hpkA_c}(\\theta_b)} = \\tanh{aL}. $$"
   ]
  },
  {
   "cell_type": "markdown",
   "metadata": {},
   "source": [
    "Implemente un algoritmo de elementos finitos para resolver la ecuación de la aleta utilizando elementos lineales y cuadráticos con \n",
    "\n",
    "$$L = 1$$ \n",
    "\n",
    "y \n",
    "\n",
    "$$a = 0.1.$$\n",
    "\n",
    "Calcule:\n",
    "\n",
    "* la distribución de temperaturas $\\theta$ obtenida del MEF (elementos lineales y cuadráticos) y compárela con la solución analítica gráficamente.\n",
    "* La temperatura $\\theta$ en la punta (elementos lineales y cuadráticos) y compárela con la solución analítica.\n",
    "* La tasa de transferencia de calor adimencional de la aleta (elementos lineales y cuadráticos) y compárela con la solución analítica.\n",
    "\n",
    "Corra su simulación para diferentes valores de $a$ y determine a partir de qué valor se puede suponer que la aleta se comporta como una aleta infinitamente larga, es decir que la temperatura en la punta es cercana a la temperatura ambiente $T(L) = T_{\\infty} \\rightarrow \\theta(L)=0$. ¿Cuánto es la transferencia de calor adimensional en este caso?"
   ]
  },
  {
   "cell_type": "code",
   "execution_count": 2,
   "metadata": {
    "collapsed": false
   },
   "outputs": [
    {
     "name": "stdout",
     "output_type": "stream",
     "text": [
      "Populating the interactive namespace from numpy and matplotlib\n"
     ]
    }
   ],
   "source": [
    "%pylab inline"
   ]
  },
  {
   "cell_type": "markdown",
   "metadata": {},
   "source": [
    "## Solución\n",
    "\n",
    "Voy a comenzar adaptando el código 1d-simple a este problema. Primero defino las bases lineales y cuadráticas."
   ]
  },
  {
   "cell_type": "code",
   "execution_count": 17,
   "metadata": {
    "collapsed": true
   },
   "outputs": [],
   "source": [
    "def basis(xbar,i,he):\n",
    "    \"\"\"Returns the ith basis funciton at x\n",
    "    xbar - local element coordinate\n",
    "    i - basis function index\n",
    "    he - width of each element\n",
    "    \"\"\"\n",
    "    if i == 0: return 1 - xbar/he\n",
    "    if i == 1: return xbar/he\n",
    "    return -1 # Este seria un codigo de error, toca mejorar\n",
    "\n",
    "def dbasis(xbar,i,he):\n",
    "    \"\"\"Returns the ith basis funciton at x\n",
    "    xbar - local element coordinate\n",
    "    i - basis funciton index\n",
    "    he - width of each element\n",
    "    \"\"\"\n",
    "    if i == 0: return -1/he\n",
    "    if i == 1: return 1/he\n",
    "    return -1 # Este seria un codigo de error, toca mejorar\n",
    "\n",
    "def basis2(xbar,i,he):\n",
    "    \"\"\"Returns the ith basis funciton at x\n",
    "    xbar - local element coordinate\n",
    "    i - basis function index\n",
    "    he - width of each element\n",
    "    \"\"\"\n",
    "    if i == 0: return (2*xbar**2)/(he**2)-(3*xbar/he)+1\n",
    "    if i == 1: return (-4*xbar**2)/(he**2)+(4*xbar/he)\n",
    "    if i == 2: return (2*xbar**2)/(he**2)-(xbar/he)\n",
    "    return -1 # Este seria un codigo de error, toca mejorar\n",
    "\n",
    "def dbasis2(xbar,i,he):\n",
    "    \"\"\"Returns the ith basis funciton at x\n",
    "    xbar - local element coordinate\n",
    "    i - basis funciton index\n",
    "    he - width of each element\n",
    "    \"\"\"\n",
    "    if i == 0: return (4*xbar)/(he**2)-(3/he)\n",
    "    if i == 1: return (-8*xbar)/(he**2)+(4/he)\n",
    "    if i == 2: return (4*xbar)/(he**2)-(1/he)\n",
    "    return -1 # Este seria un codigo de error, toca mejorar"
   ]
  },
  {
   "cell_type": "markdown",
   "metadata": {},
   "source": [
    "En la siguiente celda se define el tamaño del dominio (longitud de la aleta) y las condiciones de frontera. También definimos la función de generación distribuída. "
   ]
  },
  {
   "cell_type": "code",
   "execution_count": 34,
   "metadata": {
    "collapsed": true
   },
   "outputs": [],
   "source": [
    "L = 1.0\n",
    "g = 1.0 # u(0) = g\n",
    "h = 0.0 # u'(1) = h\n",
    "\n",
    "def f(x):\n",
    "    return 0.0"
   ]
  },
  {
   "cell_type": "code",
   "execution_count": 85,
   "metadata": {
    "collapsed": false
   },
   "outputs": [],
   "source": [
    "from scipy import integrate\n",
    "\n",
    "def aleta1d(a,n,dofpe):\n",
    "    a2 = a**2\n",
    "    dx = L/n\n",
    "    dof = n*(dofpe-1) + 1\n",
    "    coords = linspace(0,L,dof)\n",
    "\n",
    "    if dofpe == 2:\n",
    "        elementos = zeros((n,2),dtype=int)\n",
    "        for i in range(n):\n",
    "            elementos[i,0] = int(i)\n",
    "            elementos[i,1] = int(i+1)\n",
    "    elif dofpe == 3:\n",
    "        elementos = zeros((n,3),dtype=int)\n",
    "        for i in range(n):\n",
    "            elementos[i,0] = int(2*i)\n",
    "            elementos[i,1] = int(2*i+1)\n",
    "            elementos[i,2] = int(2*i+2)\n",
    "    \n",
    "    K = np.zeros((dof,dof))\n",
    "\n",
    "    # Aqui vamos a hacer la integracion sobre cada elemento\n",
    "    # Ojo que estoy haciendo una integral super basica con el \n",
    "    # punto medio\n",
    "    for e in range(n): # loop over elements\n",
    "        dx = coords[elementos[e,-1]] - coords[elementos[e,0]]\n",
    "        for i in range(dofpe): # loop over basis i\n",
    "            for j in range(dofpe): # loop over basis j\n",
    "                if dofpe == 2:\n",
    "                    kernel = lambda x,i,j,dx: -dbasis(x,i,dx)*dbasis(x,j,dx) - a2*basis(x,i,dx)*basis(x,j,dx)\n",
    "                elif dofpe == 3:\n",
    "                    kernel = lambda x,i,j,dx: -dbasis2(x,i,dx)*dbasis2(x,j,dx) - a2*basis2(x,i,dx)*basis2(x,j,dx)\n",
    "                intkernel, err = integrate.quad(kernel,0,dx,args=(i,j,dx,))\n",
    "                K[elementos[e,i],elementos[e,j]] += intkernel\n",
    "                \n",
    "    F = np.zeros((dof))\n",
    "    for e in range(n):\n",
    "        dx = coords[elementos[e,1]] - coords[elementos[e,0]]\n",
    "        for i in range(dofpe):\n",
    "            if dofpe == 2:\n",
    "                kernel = lambda x,i,j,dx: basis(x,i,dx)*f(x)\n",
    "            elif dofpe == 3:\n",
    "                kernel = lambda x,i,j,dx: basis2(x,i,dx)*f(x)\n",
    "            intkernel, err = integrate.quad(kernel,0,dx,args=(i,j,dx,))\n",
    "            F[elementos[e,i]] += intkernel\n",
    "            \n",
    "    # Adjust for Dirichlet condition\n",
    "    ibc = 0\n",
    "    F -= K[:,ibc]*g\n",
    "    K[:,ibc] = K[ibc,:] = 0\n",
    "    K[ibc,ibc] = 1\n",
    "    F[ibc] = g\n",
    "\n",
    "    # Add Neumann condition\n",
    "    F[n] += h\n",
    "\n",
    "    # Solve\n",
    "    return [coords, elementos, np.linalg.solve(K,F)]    \n"
   ]
  },
  {
   "cell_type": "markdown",
   "metadata": {},
   "source": [
    "Solución analítica"
   ]
  },
  {
   "cell_type": "code",
   "execution_count": 41,
   "metadata": {
    "collapsed": true
   },
   "outputs": [],
   "source": [
    "def aleta1dana(coor,a):\n",
    "    return g*np.cosh(a*(L-coor))/np.cosh(a*L)"
   ]
  },
  {
   "cell_type": "code",
   "execution_count": 101,
   "metadata": {
    "collapsed": false
   },
   "outputs": [],
   "source": [
    "# Calculo la distribución con dos elementos lineales y cuadráticos\n",
    "\n",
    "a = 0.1\n",
    "n = 2\n",
    "\n",
    "coords1, elem1, theta1 = aleta1d(a,n,2)\n",
    "coords2, elem2, theta2 = aleta1d(a,n,3)\n",
    "\n",
    "# Ahora la solución analítica\n",
    "\n",
    "res = 100\n",
    "coordsana = linspace(0,L,res)\n",
    "theta1ana = aleta1dana(coordsana,a)"
   ]
  },
  {
   "cell_type": "code",
   "execution_count": 102,
   "metadata": {
    "collapsed": false
   },
   "outputs": [
    {
     "data": {
      "text/plain": [
       "[<matplotlib.lines.Line2D at 0x7f4fc308a898>,\n",
       " <matplotlib.lines.Line2D at 0x7f4fc308aa20>,\n",
       " <matplotlib.lines.Line2D at 0x7f4fc3093400>]"
      ]
     },
     "execution_count": 102,
     "metadata": {},
     "output_type": "execute_result"
    },
    {
     "data": {
      "image/png": "[encoded data removed]",
      "text/plain": [
       "<matplotlib.figure.Figure at 0x7f4fc3187a20>"
      ]
     },
     "metadata": {},
     "output_type": "display_data"
    }
   ],
   "source": [
    "\n",
    "plot(coords1,theta1,'--*k',coords2,theta2,'--*b',coordsana,theta1ana,'-r')"
   ]
  },
  {
   "cell_type": "code",
   "execution_count": 103,
   "metadata": {
    "collapsed": false
   },
   "outputs": [
    {
     "name": "stdout",
     "output_type": "stream",
     "text": [
      "Temp. Analítico:  0.995020748953 \n",
      "\n",
      "Temp. Elementos Lineales:  0.995019715571 Dif:  1.0385535625e-06 \n",
      "\n",
      "Temp. Elementos Cuadráticos:  0.995020748996 Dif:  4.32676690352e-11 \n",
      "\n"
     ]
    }
   ],
   "source": [
    "print('Temp. Analítico: ', theta1ana[-1], '\\n')\n",
    "print('Temp. Elementos Lineales: ', theta1[-1], 'Dif: ', abs(theta1ana[-1]-theta1[-1])/theta1ana[-1],'\\n')\n",
    "print('Temp. Elementos Cuadráticos: ', theta2[-1], 'Dif: ', abs(theta1ana[-1]-theta2[-1])/theta1ana[-1],'\\n')"
   ]
  },
  {
   "cell_type": "code",
   "execution_count": 104,
   "metadata": {
    "collapsed": false
   },
   "outputs": [
    {
     "name": "stdout",
     "output_type": "stream",
     "text": [
      "Calor Analítico:  0.099667994625 \n",
      "\n",
      "Calor Elementos Lineales:  0.0747198265839 Dif:  0.250312732136 \n",
      "\n",
      "Temp. Elementos Cuadráticos:  0.0996513917665 Dif:  0.000166581644685 \n",
      "\n"
     ]
    }
   ],
   "source": [
    "# Finalmente la tasa de transferencia de calor adimensional\n",
    "\n",
    "\n",
    "dx = L/n\n",
    "xbar = 0\n",
    "\n",
    "Qlineal = 0\n",
    "for j in range(2):\n",
    "    Qlineal += dbasis(xbar,j,dx)*theta1[elem1[0,j]]\n",
    "Qlineal = -Qlineal/(a*g)\n",
    "\n",
    "Qcuadratico = 0\n",
    "for j in range(3):\n",
    "    Qcuadratico += dbasis2(xbar,j,dx)*theta2[elem2[0,j]]\n",
    "Qcuadratico = -Qcuadratico/(a*g)\n",
    "\n",
    "Qana = np.tanh(a*L)\n",
    "\n",
    "print('Calor Analítico: ', Qana, '\\n')\n",
    "print('Calor Elementos Lineales: ', Qlineal, 'Dif: ', abs(Qlineal-Qana)/Qana,'\\n')\n",
    "print('Temp. Elementos Cuadráticos: ', Qcuadratico, 'Dif: ', abs(Qcuadratico-Qana)/Qana,'\\n')\n"
   ]
  },
  {
   "cell_type": "markdown",
   "metadata": {},
   "source": [
    "No obstante el cálculo de la variable principal es muy bueno incluso con elementos de orden lineal, el cálculo de la variable secundaria es más sencible al orden de los elementos sobre todo en este caso con pocos elementos. "
   ]
  },
  {
   "cell_type": "code",
   "execution_count": 148,
   "metadata": {
    "collapsed": false
   },
   "outputs": [],
   "source": [
    "asv = [0.1, 0.2, 0.5, 1.0, 1.5, 2.0, 2.5, 3.0, 4.0, 5.0]\n",
    "\n",
    "# Este experimento lo vamos a hacer con 50 elementos cuadráticos\n",
    "dofpe = 3\n",
    "n = 50\n",
    "dof = n*(dofpe-1) + 1\n",
    "coords = linspace(0,L,dof)\n",
    "theta = zeros((size(asv),size(coords)))\n",
    "\n",
    "for i, a in enumerate(asv):\n",
    "    d1,d2 , theta[i,:] = aleta1d(a,n,dofpe)"
   ]
  },
  {
   "cell_type": "code",
   "execution_count": 149,
   "metadata": {
    "collapsed": false
   },
   "outputs": [
    {
     "name": "stdout",
     "output_type": "stream",
     "text": [
      "0.0134752869023\n"
     ]
    },
    {
     "data": {
      "image/png": "[encoded data removed]",
      "text/plain": [
       "<matplotlib.figure.Figure at 0x7f4fc0c13160>"
      ]
     },
     "metadata": {},
     "output_type": "display_data"
    }
   ],
   "source": [
    "plot(coords, theta.T)\n",
    "print(theta[-1,-1])"
   ]
  },
  {
   "cell_type": "code",
   "execution_count": 150,
   "metadata": {
    "collapsed": false
   },
   "outputs": [
    {
     "name": "stdout",
     "output_type": "stream",
     "text": [
      "[ 0.00199336  0.007895    0.04621133  0.15231381  0.27152438  0.38556046\n",
      "  0.49320643  0.59685799  0.79905042  0.9991084 ]\n"
     ]
    }
   ],
   "source": [
    "dx = L/n\n",
    "xbar = 0\n",
    "\n",
    "Qbase = zeros(size(asv))\n",
    "for i in range(size(asv)):\n",
    "    Qbase[i] = 0\n",
    "    for j in range(3):\n",
    "        Qbase[i] += dbasis2(xbar,j,dx)*theta[i,j]\n",
    "    Qbase[i] = -Qbase[i]/(a*g)\n",
    "    \n",
    "print(Qbase)"
   ]
  },
  {
   "cell_type": "markdown",
   "metadata": {},
   "source": [
    "Antes de las *6:20 pm del día miércoles 22 de febrero*, usted debe enviar al correo angonzal@uniandes.edu.co la solución del parcial, respondiendo a las preguntas planteadas. La solución puede ser un código debidamente comentado (en Matlab o Python) con las respuestas en comentarios del código o que al momento de correrlo responda de manera explícita a las preguntas. También puede enviar un documento en Word con las respuestas. En este caso el código utilizado también debe ser adjuntado (esta versión es la menos preferible). Los códigos deben venir con los nombres XXXXXXXXX.m (o XXXXXXXX.py) y XXXXXXXXX.docx (si optó por esta opción), donde XXXXXXXXX debe corresponder a su código de estudiante. Si su código está repartido en varios archivos (funciones de Matlab o módulos de Python) puede comprimir sus archivos en un archivo Zip con el nombre XXXXXXXX.zip antes de enviarlo.\n",
    "\n",
    "Notas:\n",
    "\n",
    "* Entregas después de las 6:20 tendrán nota de 0.0.\n",
    "* Si el código no corre, la penalidad puede ser hasta del 100% del valor del parcial.\n",
    "* Puede utilizar todos los códigos que ha desarrollado durante el semestre, así como todos los recursos disponibles en línea, sus notas y libros. No puede consultar a sus compañeros de clase."
   ]
  },
  {
   "cell_type": "code",
   "execution_count": null,
   "metadata": {
    "collapsed": true
   },
   "outputs": [],
   "source": []
  }
 ],
 "metadata": {
  "kernel_info": {
   "name": "python3"
  },
  "kernelspec": {
   "display_name": "Python 3",
   "language": "python",
   "name": "python3"
  },
  "language_info": {
   "codemirror_mode": {
    "name": "ipython",
    "version": 3
   },
   "file_extension": ".py",
   "mimetype": "text/x-python",
   "name": "python",
   "nbconvert_exporter": "python",
   "pygments_lexer": "ipython3",
   "version": "3.6.0"
  }
 },
 "nbformat": 4,
 "nbformat_minor": 0
}

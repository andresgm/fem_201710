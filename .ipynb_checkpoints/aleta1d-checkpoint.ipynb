{
 "cells": [
  {
   "cell_type": "markdown",
   "metadata": {},
   "source": [
    "# Transferencia de Calor de Superficies Extendidas #\n",
    "\n",
    "La tasa de transferencia de calor desde una superficie a temperatura $T_s$ hacia los alrededores a $T_{\\infty}$ está dada por la ley de enfriamiento de Newton  \n",
    "\n",
    "$$\\dot{Q}_{conv} = hA_s\\left(T_s-T_{\\infty}\\right)$$  \n",
    "\n",
    "Donde $A_s$ es el área de transferencia de calor y $h$ es el coeficiente de transferencia de calor.  \n",
    "\n",
    "Las superficies extendidas (también conocidas como aletas) son muy utilizadas para mejorar la disipación de calor desde una superficie mediante el incremento del área superficial. \n",
    "\n",
    "![Aleta](img/aleta.png)\n",
    "\n",
    "Mediante un análisis del flujo de calor estacionario por los elementos diferenciales mostrados en la figura, se puede encontrar que la distribución de temperatura en la aleta está determinada por la ecuación diferencial\n",
    "\n",
    "$$ \\frac{d}{dx}\\left(kA_c\\frac{dT}{dx}\\right) - hp\\left(T-T_{\\infty}\\right) = 0 $$\n",
    "\n",
    "Mediante un sencillo cambio de variables $\\theta = T - T_{\\infty}$ la ecuación se puede escribir en la forma\n",
    "\n",
    "$$\\frac{d^2\\theta}{dx^2} - a^2\\theta = 0$$\n",
    "\n",
    "donde\n",
    "\n",
    "$$ a^2 = \\frac{hp}{kA_c}. $$\n",
    "\n",
    "\n",
    "\n"
   ]
  },
  {
   "cell_type": "markdown",
   "metadata": {
    "collapsed": true
   },
   "source": [
    "Suponiendo que conocemos la temperatura en la base de la aleta\n",
    "\n",
    "$$ T(0) = T_b \\rightarrow \\theta(0) = T_b - T_{\\infty} = \\theta_b $$\n",
    "\n",
    "y que la punta de la aleta es adiabática\n",
    "\n",
    "$$ \\left. \\frac{d\\theta}{dx}\\right|_{x=L} = 0, $$\n",
    "\n",
    "es fácil obtener la solución analítica:\n",
    "\n",
    "$$ \\theta = \\theta_b \\frac{\\cosh{a(L-x)}}{\\cosh{aL}}. $$\n",
    "\n",
    "Además la tasa de transferencia de calor de la aleta se puede obtener calculando el flujo de calor por la base de la aleta (¿Por qué?) de la siguiente manera\n",
    "\n",
    "$$\\begin{eqnarray}\n",
    "\\dot{Q}_{conv} &=& \\left. -kA_c\\frac{dT}{dx}\\right|_{x=0} \\\\\n",
    "&=& \\sqrt{hpkA_c}(T_b-T_{\\infty})\\tanh{aL} \\\\\n",
    "&=& \\sqrt{hpkA_c}(\\theta_b)\\tanh{aL}\n",
    "\\end{eqnarray}$$\n",
    "\n",
    "Lo cual se puede expresar en términos adimensionales como \n",
    "\n",
    "$$ \\frac{\\dot{Q}_{conv}}{\\sqrt{hpkA_c}(\\theta_b)} = \\tanh{aL}. $$"
   ]
  },
  {
   "cell_type": "markdown",
   "metadata": {},
   "source": [
    "Implemente un algoritmo de elementos finitos para resolver la ecuación de la aleta utilizando elementos lineales y cuadráticos con \n",
    "\n",
    "$$L = 1$$ \n",
    "\n",
    "y \n",
    "\n",
    "$$a = 0.1.$$\n",
    "\n",
    "Calcule:\n",
    "\n",
    "* la distribución de temperaturas $\\theta$ obtenida del MEF (elementos lineales y cuadráticos) y compárela con la solución analítica gráficamente.\n",
    "* La temperatura $\\theta$ en la punta (elementos lineales y cuadráticos) y compárela con la solución analítica.\n",
    "* La tasa de transferencia de calor adimencional de la aleta (elementos lineales y cuadráticos) y compárela con la solución analítica.\n",
    "\n",
    "Corra su simulación para diferentes valores de $a$ y determine a partir de qué valor se puede suponer que la aleta se comporta como una aleta infinitamente larga, es decir que la temperatura en la punta es cercana a la temperatura ambiente $T(L) = T_{\\infty} \\rightarrow \\theta(L)=0$. ¿Cuánto es la transferencia de calor adimensional en este caso?"
   ]
  },
  {
   "cell_type": "markdown",
   "metadata": {},
   "source": [
    "Antes de las *6:20 pm del día miércoles 22 de febrero*, usted debe enviar al correo angonzal@uniandes.edu.co la solución del parcial, respondiendo a las preguntas planteadas. La solución puede ser un código debidamente comentado (en Matlab o Python) con las respuestas en comentarios del código o que al momento de correrlo responda de manera explícita a las preguntas. También puede enviar un documento en Word con las respuestas. En este caso el código utilizado también debe ser adjuntado (esta versión es la menos preferible). Los códigos deben venir con los nombres XXXXXXXXX.m (o XXXXXXXX.py) y XXXXXXXXX.docx (si optó por esta opción), donde XXXXXXXXX debe corresponder a su código de estudiante. Si su código está repartido en varios archivos (funciones de Matlab o módulos de Python) puede comprimir sus archivos en un archivo Zip con el nombre XXXXXXXX.zip antes de enviarlo.\n",
    "\n",
    "Notas:\n",
    "\n",
    "* Entregas después de las 6:20 tendrán nota de 0.0.\n",
    "* Si el código no corre, la penalidad puede ser hasta del 100% del valor del parcial.\n",
    "* Puede utilizar todos los códigos que ha desarrollado durante el semestre, así como todos los recursos disponibles en línea, sus notas y libros. No puede consultar a sus compañeros de clase."
   ]
  },
  {
   "cell_type": "code",
   "execution_count": null,
   "metadata": {
    "collapsed": true
   },
   "outputs": [],
   "source": []
  }
 ],
 "metadata": {
  "kernel_info": {
   "name": "python3"
  },
  "kernelspec": {
   "display_name": "Python [default]",
   "language": "python",
   "name": "python3"
  },
  "language_info": {
   "codemirror_mode": {
    "name": "ipython",
    "version": 3
   },
   "file_extension": ".py",
   "mimetype": "text/x-python",
   "name": "python",
   "nbconvert_exporter": "python",
   "pygments_lexer": "ipython3",
   "version": "3.5.2"
  }
 },
 "nbformat": 4,
 "nbformat_minor": 0
}

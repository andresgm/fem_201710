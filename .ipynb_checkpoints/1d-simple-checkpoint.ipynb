{
 "cells": [
  {
   "cell_type": "code",
   "execution_count": 6,
   "metadata": {
    "collapsed": false,
    "outputExpanded": false
   },
   "outputs": [
    {
     "name": "stdout",
     "output_type": "stream",
     "text": [
      "Populating the interactive namespace from numpy and matplotlib\n"
     ]
    },
    {
     "name": "stderr",
     "output_type": "stream",
     "text": [
      "/home/andres/anaconda3/lib/python3.6/site-packages/IPython/core/magics/pylab.py:161: UserWarning: pylab import has clobbered these variables: ['f']\n",
      "`%matplotlib` prevents importing * from pylab and numpy\n",
      "  \"\\n`%matplotlib` prevents importing * from pylab and numpy\"\n"
     ]
    }
   ],
   "source": [
    "%pylab inline"
   ]
  },
  {
   "cell_type": "markdown",
   "metadata": {
    "collapsed": false,
    "outputExpanded": false
   },
   "source": [
    "# Conducción de calor en una placa plana 1D. \n",
    "\n",
    "Uno de los problemas más simples que se puede modelar es la distribución de temperatura en una placa plana. Este sistema está gobernado por la ecuación de calor en 1D:\n",
    "\n",
    "$$ -k\\frac{d^2T}{dx^2} - q = 0 $$\n",
    "\n",
    "En esta ecuación $k$ es la conductividad térmica, $T$ la temperatura, $x$ la posición espacial y $q$ la tasa de generación de calor en el material.  \n",
    "\n",
    "Esta ecuación es muy simple de solucionar de manera analítica. Sin embargo, a manera de ejemplo implementaremos un algoritmo para la solución de esta solución mediante el método de los elementos finitos.  \n",
    "\n",
    "Para completar la definición del problema se establece el dominio del mismo para $0 < x < L$ con una condición de frontera esencial en $x=0$\n",
    "\n",
    "$T(0) = g \\\\textrm{ - condición esencial}$  \n",
    "$\\frac{dT(L)}{dx} = h \\\\textrm{ - condición natural}$  \n",
    "\n",
    "\n"
   ]
  },
  {
   "cell_type": "code",
   "execution_count": 7,
   "metadata": {
    "collapsed": false,
    "outputExpanded": false
   },
   "outputs": [],
   "source": [
    "def basis(xbar,i,he):\n",
    "    \"\"\"Returns the ith basis funciton at x\n",
    "    xbar - local element coordinate\n",
    "    i - basis function index\n",
    "    he - width of each element\n",
    "    \"\"\"\n",
    "    if i == 0: return 1 - xbar/he\n",
    "    if i == 1: return xbar/he\n",
    "    return -1 # Este seria un codigo de error, toca mejorar\n",
    "\n",
    "def dbasis(x,i,he):\n",
    "    \"\"\"Returns the ith basis funciton at x\n",
    "    xbar - local element coordinate\n",
    "    i - basis funciton index\n",
    "    he - width of each element\n",
    "    \"\"\"\n",
    "    if i == 0: return -1/he\n",
    "    if i == 1: return 1/he\n",
    "    return -1 # Este seria un codigo de error, toca mejorar"
   ]
  },
  {
   "cell_type": "code",
   "execution_count": 8,
   "metadata": {
    "collapsed": false,
    "outputExpanded": false
   },
   "outputs": [],
   "source": [
    "def f(x):\n",
    "    return 1.0"
   ]
  },
  {
   "cell_type": "code",
   "execution_count": 9,
   "metadata": {
    "collapsed": false,
    "outputExpanded": false
   },
   "outputs": [],
   "source": [
    "L = 1.0\n",
    "n = 4\n",
    "dx = L/n\n",
    "dofpe = 2 # Grados de libertad por elemento, por ahora solo programado 2\n",
    "g = 1.0 # u(0) = g\n",
    "h = 0.0 # u'(1) = h"
   ]
  },
  {
   "cell_type": "code",
   "execution_count": 10,
   "metadata": {
    "collapsed": false,
    "outputExpanded": false
   },
   "outputs": [],
   "source": [
    "coords = linspace(0,L,n+1)\n",
    "elementos = zeros((n,2),dtype=int)\n",
    "for i in range(n):\n",
    "    elementos[i,0] = int(i)\n",
    "    elementos[i,1] = int(i+1)"
   ]
  },
  {
   "cell_type": "code",
   "execution_count": 11,
   "metadata": {
    "collapsed": false,
    "outputExpanded": false
   },
   "outputs": [],
   "source": [
    "K = np.zeros((n+1,n+1))\n",
    "\n",
    "# Aqui vamos a hacer la integracion sobre cada elemento\n",
    "# Ojo que estoy haciendo una integral super basica con el \n",
    "# punto medio\n",
    "for e in range(n): # loop over elements\n",
    "    dx = coords[elementos[e,1]] - coords[elementos[e,0]]\n",
    "    for i in range(dofpe): # loop over basis i\n",
    "        for j in range(dofpe): # loop over basis j\n",
    "            xmid = 0.5*dx\n",
    "            dNi = dbasis(xmid,i,dx)\n",
    "            dNj = dbasis(xmid,j,dx)\n",
    "            K[elementos[e,i],elementos[e,j]] += dNi*dNj*dx\n"
   ]
  },
  {
   "cell_type": "code",
   "execution_count": 13,
   "metadata": {
    "collapsed": false,
    "outputExpanded": false
   },
   "outputs": [],
   "source": [
    "F = np.zeros((n+1))\n",
    "for e in range(n):\n",
    "    dx = coords[elementos[e,1]] - coords[elementos[e,0]]\n",
    "    for i in range(dofpe):\n",
    "        xmid = 0.5*dx\n",
    "        Ni = basis(xmid,i,dx)\n",
    "        F[elementos[e,i]] += Ni*f(xmid)*dx"
   ]
  },
  {
   "cell_type": "code",
   "execution_count": 14,
   "metadata": {
    "collapsed": false,
    "outputExpanded": false
   },
   "outputs": [],
   "source": [
    "# Adjust for Dirichlet condition\n",
    "ibc = 0\n",
    "F -= K[:,ibc]*g\n",
    "K[:,ibc] = K[ibc,:] = 0\n",
    "K[ibc,ibc] = 1\n",
    "F[ibc] = g\n",
    "\n",
    "# Add Neumann condition\n",
    "F[n] += h"
   ]
  },
  {
   "cell_type": "code",
   "execution_count": 21,
   "metadata": {
    "collapsed": false
   },
   "outputs": [
    {
     "data": {
      "text/plain": [
       "array([ 1.     ,  1.21875,  1.375  ,  1.46875,  1.5    ])"
      ]
     },
     "execution_count": 21,
     "metadata": {},
     "output_type": "execute_result"
    }
   ],
   "source": [
    "d"
   ]
  },
  {
   "cell_type": "code",
   "execution_count": 19,
   "metadata": {
    "collapsed": false,
    "outputExpanded": false
   },
   "outputs": [],
   "source": [
    "# Solve\n",
    "d = np.linalg.solve(K,F)"
   ]
  },
  {
   "cell_type": "code",
   "execution_count": 22,
   "metadata": {
    "collapsed": false,
    "outputExpanded": false
   },
   "outputs": [
    {
     "data": {
      "text/plain": [
       "[<matplotlib.lines.Line2D at 0x7fdfde3e4860>]"
      ]
     },
     "execution_count": 22,
     "metadata": {},
     "output_type": "execute_result"
    },
    {
     "data": {
      "image/png": "[encoded data removed]",
      "text/plain": [
       "<matplotlib.figure.Figure at 0x7fdfde963940>"
      ]
     },
     "metadata": {},
     "output_type": "display_data"
    }
   ],
   "source": [
    "# Una grafica sencilla de los valores de la temp. en los nodos\n",
    "plot(coords,d,'--*k')"
   ]
  },
  {
   "cell_type": "code",
   "execution_count": 23,
   "metadata": {
    "collapsed": false,
    "outputExpanded": false
   },
   "outputs": [
    {
     "data": {
      "text/plain": [
       "[<matplotlib.lines.Line2D at 0x7fdfde30f940>]"
      ]
     },
     "execution_count": 23,
     "metadata": {},
     "output_type": "execute_result"
    },
    {
     "data": {
      "image/png": "[encoded data removed]",
      "text/plain": [
       "<matplotlib.figure.Figure at 0x7fdfde3ff4e0>"
      ]
     },
     "metadata": {},
     "output_type": "display_data"
    }
   ],
   "source": [
    "# Ahora vamos a graficar valores interpolando entre nodos.\n",
    "x = np.linspace(0,L,100)\n",
    "temp = zeros(size(x))\n",
    "for i,coord in enumerate(x):\n",
    "    if coord == 0:\n",
    "        temp[i] = d[i]\n",
    "        continue\n",
    "    elem = np.where((coords<coord))[0][-1]\n",
    "    for j in range(dofpe):\n",
    "        x1 = coords[elementos[elem,0]]\n",
    "        dx = coords[elementos[elem,1]] - x1\n",
    "        xbar = coord-x1\n",
    "        temp[i] += basis(xbar,j,dx)*d[elementos[elem,j]]\n",
    "plot(x,temp,'b*')\n",
    "\n",
    "\n"
   ]
  },
  {
   "cell_type": "code",
   "execution_count": null,
   "metadata": {
    "collapsed": false,
    "outputExpanded": false
   },
   "outputs": [],
   "source": []
  }
 ],
 "metadata": {
  "kernel_info": {
   "name": "python3"
  },
  "kernelspec": {
   "display_name": "Python 3",
   "language": "python",
   "name": "python3"
  },
  "language_info": {
   "codemirror_mode": {
    "name": "ipython",
    "version": 3
   },
   "file_extension": ".py",
   "mimetype": "text/x-python",
   "name": "python",
   "nbconvert_exporter": "python",
   "pygments_lexer": "ipython3",
   "version": "3.6.0"
  }
 },
 "nbformat": 4,
 "nbformat_minor": 0
}
